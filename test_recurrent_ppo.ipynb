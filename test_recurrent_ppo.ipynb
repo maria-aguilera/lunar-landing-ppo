{
  "cells": [
    {
      "cell_type": "code",
      "execution_count": null,
      "metadata": {
        "id": "j_O6JkrlGDhd"
      },
      "outputs": [],
      "source": [
        "hp = None\n",
        "ENV = None\n",
        "ENV_MASK_VELOCITY = None"
      ]
    },
    {
      "cell_type": "code",
      "source": [
        "%cd"
      ],
      "metadata": {
        "colab": {
          "base_uri": "https://localhost:8080/"
        },
        "id": "PdmDBpfNAU_B",
        "outputId": "1f3a263b-6d13-4d13-a91e-ccb035da0ae9"
      },
      "execution_count": null,
      "outputs": [
        {
          "output_type": "stream",
          "name": "stdout",
          "text": [
            "/root\n"
          ]
        }
      ]
    },
    {
      "cell_type": "code",
      "source": [
        "# Workspace setup\n",
        "from google.colab import drive\n",
        "drive.mount('/content/drive',force_remount=True)\n",
        "WORKSPACE_PATH = \"/content/drive/MyDrive/reinforcement-learning/lunar-landing\""
      ],
      "metadata": {
        "colab": {
          "base_uri": "https://localhost:8080/"
        },
        "id": "RaNhDmEv-Ctf",
        "outputId": "b46808c4-704c-45de-a842-345f8f51245e"
      },
      "execution_count": null,
      "outputs": [
        {
          "output_type": "stream",
          "name": "stdout",
          "text": [
            "Mounted at /content/drive\n"
          ]
        }
      ]
    },
    {
      "cell_type": "code",
      "execution_count": null,
      "metadata": {
        "colab": {
          "base_uri": "https://localhost:8080/"
        },
        "id": "3ECthISLuyDB",
        "outputId": "752a87d5-6297-46e9-b7e8-65193743fcc9"
      },
      "outputs": [
        {
          "output_type": "stream",
          "name": "stdout",
          "text": [
            "Looking in indexes: https://pypi.org/simple, https://us-python.pkg.dev/colab-wheels/public/simple/\n",
            "Requirement already satisfied: swig in /usr/local/lib/python3.8/dist-packages (4.1.1)\n"
          ]
        }
      ],
      "source": [
        "!pip install swig\n",
        "!pip install -q gym[box2d]==0.15.4 dotmap line_profiler > /dev/null\n",
        "!apt-get install -qq python-opengl xvfb x11-utils > /dev/null\n",
        "!pip install -q pyvirtualdisplay piglet > /dev/null"
      ]
    },
    {
      "cell_type": "code",
      "execution_count": null,
      "metadata": {
        "colab": {
          "base_uri": "https://localhost:8080/"
        },
        "id": "ZcrsWu4ggasL",
        "outputId": "4a5f6636-ab29-4762-fa3a-25418149a3ea"
      },
      "outputs": [
        {
          "output_type": "execute_result",
          "data": {
            "text/plain": [
              "<pyvirtualdisplay.display.Display at 0x7fa0acaf7c40>"
            ]
          },
          "metadata": {},
          "execution_count": 8
        }
      ],
      "source": [
        "from pyvirtualdisplay import Display\n",
        "display = Display(visible=0, size=(400, 300))\n",
        "display.start()"
      ]
    },
    {
      "cell_type": "code",
      "execution_count": null,
      "metadata": {
        "colab": {
          "base_uri": "https://localhost:8080/"
        },
        "id": "-_7Q0xiLu1gI",
        "outputId": "3231bece-f297-46b1-d9b8-3a4d8f41cf1d"
      },
      "outputs": [
        {
          "output_type": "stream",
          "name": "stdout",
          "text": [
            "Colab only includes TensorFlow 2.x; %tensorflow_version has no effect.\n"
          ]
        }
      ],
      "source": [
        "import torch\n",
        "from torch import nn\n",
        "from torch import distributions\n",
        "import gym\n",
        "import copy\n",
        "from torch.utils.tensorboard import SummaryWriter\n",
        "from torch import optim\n",
        "import numpy as np\n",
        "from itertools import count\n",
        "import torch.nn.functional as F\n",
        "import re\n",
        "import copy\n",
        "import time\n",
        "import math\n",
        "import pathlib\n",
        "import time\n",
        "import pickle\n",
        "import os\n",
        "from dataclasses import dataclass\n",
        "import gc\n",
        "from dotmap import DotMap\n",
        "from base64 import b64encode\n",
        "from IPython.display import HTML\n",
        "\n",
        "# Select version 2 of tensorflow to avoid warnings.\n",
        "%tensorflow_version 2.x"
      ]
    },
    {
      "cell_type": "code",
      "execution_count": null,
      "metadata": {
        "id": "gcQhgIG5YJKO"
      },
      "outputs": [],
      "source": [
        "class Actor(nn.Module):\n",
        "    def __init__(self, state_dim, action_dim, continuous_action_space, trainable_std_dev, init_log_std_dev=None):\n",
        "        super().__init__()\n",
        "        self.lstm = nn.LSTM(state_dim, hp.hidden_size, num_layers=hp.recurrent_layers)\n",
        "        self.layer_hidden = nn.Linear(hp.hidden_size, hp.hidden_size)\n",
        "        self.layer_policy_logits = nn.Linear(hp.hidden_size, action_dim)\n",
        "        self.action_dim = action_dim\n",
        "        self.continuous_action_space = continuous_action_space \n",
        "        self.log_std_dev = nn.Parameter(init_log_std_dev * torch.ones((action_dim), dtype=torch.float), requires_grad=trainable_std_dev)\n",
        "        self.covariance_eye = torch.eye(self.action_dim).unsqueeze(0)\n",
        "        self.hidden_cell = None\n",
        "        \n",
        "    def get_init_state(self, batch_size, device):\n",
        "        self.hidden_cell = (torch.zeros(hp.recurrent_layers, batch_size, hp.hidden_size).to(device),\n",
        "                            torch.zeros(hp.recurrent_layers, batch_size,hp.hidden_size).to(device))\n",
        "        \n",
        "    def forward(self, state, terminal=None):\n",
        "        batch_size = state.shape[1]\n",
        "        device = state.device\n",
        "        if self.hidden_cell is None or batch_size != self.hidden_cell[0].shape[1]:\n",
        "            self.get_init_state(batch_size, device)\n",
        "        if terminal is not None:\n",
        "            self.hidden_cell = [value * (1. - terminal).reshape(1, batch_size, 1) for value in self.hidden_cell]\n",
        "        _, self.hidden_cell = self.lstm(state, self.hidden_cell)\n",
        "        hidden_out = F.elu(self.layer_hidden(self.hidden_cell[0][-1]))\n",
        "        policy_logits_out = self.layer_policy_logits(hidden_out)\n",
        "        if self.continuous_action_space:\n",
        "            cov_matrix = self.covariance_eye.to(device).expand(batch_size, self.action_dim, self.action_dim) * torch.exp(self.log_std_dev.to(device))\n",
        "            # We define the distribution on the CPU since otherwise operations fail with CUDA illegal memory access error.\n",
        "            policy_dist = torch.distributions.multivariate_normal.MultivariateNormal(policy_logits_out.to(\"cpu\"), cov_matrix.to(\"cpu\"))\n",
        "        else:\n",
        "            policy_dist = distributions.Categorical(F.softmax(policy_logits_out, dim=1))\n",
        "        return policy_dist\n",
        "    \n",
        "class Critic(nn.Module):\n",
        "    def __init__(self, state_dim):\n",
        "        super().__init__()\n",
        "        self.layer_lstm = nn.LSTM(state_dim, hp.hidden_size, num_layers=hp.recurrent_layers)\n",
        "        self.layer_hidden = nn.Linear(hp.hidden_size, hp.hidden_size)\n",
        "        self.layer_value = nn.Linear(hp.hidden_size, 1)\n",
        "        self.hidden_cell = None\n",
        "        \n",
        "    def get_init_state(self, batch_size, device):\n",
        "        self.hidden_cell = (torch.zeros(hp.recurrent_layers, batch_size, hp.hidden_size).to(device),\n",
        "                            torch.zeros(hp.recurrent_layers, batch_size, hp.hidden_size).to(device))\n",
        "    \n",
        "    def forward(self, state, terminal=None):\n",
        "        batch_size = state.shape[1]\n",
        "        device = state.device\n",
        "        if self.hidden_cell is None or batch_size != self.hidden_cell[0].shape[1]:\n",
        "            self.get_init_state(batch_size, device)\n",
        "        if terminal is not None:\n",
        "            self.hidden_cell = [value * (1. - terminal).reshape(1, batch_size, 1) for value in self.hidden_cell]\n",
        "        _, self.hidden_cell = self.layer_lstm(state, self.hidden_cell)\n",
        "        hidden_out = F.elu(self.layer_hidden(self.hidden_cell[0][-1]))\n",
        "        value_out = self.layer_value(hidden_out)\n",
        "        return value_out"
      ]
    },
    {
      "cell_type": "code",
      "execution_count": null,
      "metadata": {
        "id": "wCi10xLTvOWP"
      },
      "outputs": [],
      "source": [
        "@dataclass\n",
        "class HyperParameters():\n",
        "    scale_reward:         float\n",
        "    min_reward:           float\n",
        "    hidden_size:          float\n",
        "    batch_size:           int\n",
        "    discount:             float\n",
        "    gae_lambda:           float\n",
        "    ppo_clip:             float\n",
        "    ppo_epochs:           int\n",
        "    max_grad_norm:        float\n",
        "    entropy_factor:       float\n",
        "    actor_learning_rate:  float\n",
        "    critic_learning_rate: float\n",
        "    recurrent_seq_len:    int\n",
        "    recurrent_layers:     int\n",
        "    rollout_steps:        int\n",
        "    parallel_rollouts:    int\n",
        "    patience:             int\n",
        "    # Apply to continous action spaces only \n",
        "    trainable_std_dev:    bool\n",
        "    init_log_std_dev:     float\n",
        "@dataclass\n",
        "class StopConditions():\n",
        "    \"\"\"\n",
        "    Store parameters and variables used to stop training. \n",
        "    \"\"\"\n",
        "    best_reward: float = -1e6\n",
        "    fail_to_improve_count: int = 0\n",
        "    max_iterations: int = 1000000\n",
        "def get_env_space():\n",
        "    \"\"\"\n",
        "    Return obsvervation dimensions, action dimensions and whether or not action space is continuous.\n",
        "    \"\"\"\n",
        "    env = gym.make(ENV)\n",
        "    continuous_action_space = type(env.action_space) is gym.spaces.box.Box\n",
        "    if continuous_action_space:\n",
        "        action_dim =  env.action_space.shape[0]\n",
        "    else:\n",
        "        action_dim = env.action_space.n \n",
        "    obsv_dim= env.observation_space.shape[0] \n",
        "    return obsv_dim, action_dim, continuous_action_space\n",
        "\n",
        "def load_checkpoint(iteration):\n",
        "    \"\"\"\n",
        "    Load from training checkpoint.\n",
        "    \"\"\"\n",
        "    global ENV\n",
        "    global ENV_MASK_VELOCITY\n",
        "    global hp\n",
        "    CHECKPOINT_PATH = BASE_CHECKPOINT_PATH + f\"{iteration}/\"\n",
        "    with open(CHECKPOINT_PATH + \"parameters.pt\", \"rb\") as f:\n",
        "        checkpoint = pickle.load(f)\n",
        "        \n",
        "        ENV = checkpoint.env\n",
        "        ENV_MASK_VELOCITY = checkpoint.env_mask_velocity\n",
        "        hp = checkpoint.hp\n",
        "\n",
        "        actor_state_dict = torch.load(CHECKPOINT_PATH + \"actor.pt\", map_location=torch.device(\"cpu\"))\n",
        "        critic_state_dict = torch.load(CHECKPOINT_PATH + \"critic.pt\", map_location=torch.device(\"cpu\"))\n",
        "        actor_optimizer_state_dict = torch.load(CHECKPOINT_PATH + \"actor_optimizer.pt\", map_location=torch.device(\"cpu\"))\n",
        "        critic_optimizer_state_dict = torch.load(CHECKPOINT_PATH + \"critic_optimizer.pt\", map_location=torch.device(\"cpu\"))\n",
        "        \n",
        "    return (actor_state_dict, critic_state_dict,\n",
        "                actor_optimizer_state_dict, critic_optimizer_state_dict,\n",
        "                checkpoint.stop_conditions)\n",
        "\n",
        "def load_from_checkpoint(max_checkpoint_iteration):\n",
        "    \n",
        "    actor_state_dict, critic_state_dict, actor_optimizer_state_dict, critic_optimizer_state_dict, stop_conditions = load_checkpoint(max_checkpoint_iteration)\n",
        "    \n",
        "    obsv_dim, action_dim, continuous_action_space = get_env_space()\n",
        "    actor = Actor(obsv_dim,\n",
        "                  action_dim,\n",
        "                  continuous_action_space=continuous_action_space,\n",
        "                  trainable_std_dev=hp.trainable_std_dev,\n",
        "                  init_log_std_dev=hp.init_log_std_dev)\n",
        "    critic = Critic(obsv_dim)\n",
        "    \n",
        "    actor_optimizer = optim.AdamW(actor.parameters(), lr=hp.actor_learning_rate)\n",
        "    critic_optimizer = optim.AdamW(critic.parameters(), lr=hp.critic_learning_rate)\n",
        "\n",
        "    actor.load_state_dict(actor_state_dict, strict=True) \n",
        "    critic.load_state_dict(critic_state_dict, strict=True)\n",
        "    actor_optimizer.load_state_dict(actor_optimizer_state_dict)\n",
        "    critic_optimizer.load_state_dict(critic_optimizer_state_dict)\n",
        "\n",
        "    # We have to move manually move optimizer states to TRAIN_DEVICE manually since optimizer doesn't yet have a \"to\" method.\n",
        "    for state in actor_optimizer.state.values():\n",
        "        for k, v in state.items():\n",
        "            if isinstance(v, torch.Tensor):\n",
        "                state[k] = v.to(\"cpu\")\n",
        "\n",
        "    for state in critic_optimizer.state.values():\n",
        "        for k, v in state.items():\n",
        "            if isinstance(v, torch.Tensor):\n",
        "                state[k] = v.to(\"cpu\")\n",
        "\n",
        "    return actor, critic, actor_optimizer, critic_optimizer, max_checkpoint_iteration, stop_conditions\n",
        "\n",
        "\n",
        "def visualise_policy(actor):\n",
        "    \"\"\"\n",
        "    Visualise policy.\n",
        "    \"\"\"\n",
        "    env = gym.make(ENV)\n",
        "    if ENV_MASK_VELOCITY:\n",
        "        env = MaskVelocityWrapper(env)\n",
        "    env = gym.wrappers.Monitor(env, f\"{WORKSPACE_PATH}/videos\", force=True)\n",
        "    observation = env.reset()\n",
        "    done_mask = torch.zeros(1) \n",
        "    done = False\n",
        "    step_idx = 0\n",
        "    actor = actor.to(\"cpu\")\n",
        "    actor.eval()\n",
        "    actor.get_init_state(1, \"cpu\")\n",
        "    total_reward = 0.\n",
        "    print(\"Testing policy...\")\n",
        "    while(not done):\n",
        "        # Choose next action \n",
        "        state = torch.tensor(observation, dtype=torch.float32)\n",
        "        dist = actor(state.reshape([1, 1, -1]), done_mask)\n",
        "        action =  dist.sample().squeeze(0)\n",
        "        #import pdb; pdb.set_trace()\n",
        "        #\n",
        "        \n",
        "        #action =  dist.mean.detach().squeeze(0)\n",
        "        # Apply action\n",
        "        action_np = action.cpu().numpy()\n",
        "        observation, reward, done, info = env.step(action_np)\n",
        "        step_idx += 1\n",
        "        total_reward += reward\n",
        "    print(f\"Steps to done: {step_idx}, Total reward: {total_reward}\")\n",
        "    return env.file_infix\n",
        "\n",
        "class MaskVelocityWrapper(gym.ObservationWrapper):\n",
        "    \"\"\"\n",
        "    Gym environment observation wrapper used to mask velocity terms in\n",
        "    observations. The intention is the make the MDP partially observatiable.\n",
        "    \"\"\"\n",
        "    def __init__(self, env):\n",
        "        super(MaskVelocityWrapper, self).__init__(env)\n",
        "        if ENV == \"CartPole-v1\":\n",
        "            self.mask = np.array([1., 0., 1., 0.])\n",
        "        elif ENV == \"Pendulum-v0\":\n",
        "            self.mask = np.array([1., 1., 0.])\n",
        "        elif ENV == \"LunarLander-v2\":\n",
        "            self.mask = np.array([1., 1., 0., 0., 1., 0., 1., 1,])\n",
        "        elif ENV == \"LunarLanderContinuous-v2\":\n",
        "            self.mask = np.array([1., 1., 0., 0., 1., 0., 1., 1,])\n",
        "        else:\n",
        "            raise NotImplementedError\n",
        "\n",
        "    def observation(self, observation):\n",
        "        return  observation * self.mask"
      ]
    },
    {
      "cell_type": "code",
      "execution_count": null,
      "metadata": {
        "id": "e3GuxhR-hZA8"
      },
      "outputs": [],
      "source": [
        "EXPERIMENT_NAME = \"experiment-008\"\n",
        "BASE_CHECKPOINT_PATH = f\"{WORKSPACE_PATH}/checkpoints/{EXPERIMENT_NAME}/\""
      ]
    },
    {
      "cell_type": "code",
      "source": [
        "%ls {WORKSPACE_PATH}/checkpoints/experiment-008/"
      ],
      "metadata": {
        "colab": {
          "base_uri": "https://localhost:8080/"
        },
        "id": "W05jR6EeAosR",
        "outputId": "d2d23107-be1e-440f-c5e7-22ee99b7c092"
      },
      "execution_count": null,
      "outputs": [
        {
          "output_type": "stream",
          "name": "stdout",
          "text": [
            "\u001b[0m\u001b[01;34m0\u001b[0m/   \u001b[01;34m13\u001b[0m/  \u001b[01;34m18\u001b[0m/  \u001b[01;34m22\u001b[0m/  \u001b[01;34m27\u001b[0m/  \u001b[01;34m31\u001b[0m/  \u001b[01;34m36\u001b[0m/  \u001b[01;34m40\u001b[0m/  \u001b[01;34m45\u001b[0m/  \u001b[01;34m5\u001b[0m/   \u001b[01;34m54\u001b[0m/  \u001b[01;34m59\u001b[0m/  \u001b[01;34m63\u001b[0m/  \u001b[01;34m68\u001b[0m/  \u001b[01;34m9\u001b[0m/\n",
            "\u001b[01;34m1\u001b[0m/   \u001b[01;34m14\u001b[0m/  \u001b[01;34m19\u001b[0m/  \u001b[01;34m23\u001b[0m/  \u001b[01;34m28\u001b[0m/  \u001b[01;34m32\u001b[0m/  \u001b[01;34m37\u001b[0m/  \u001b[01;34m41\u001b[0m/  \u001b[01;34m46\u001b[0m/  \u001b[01;34m50\u001b[0m/  \u001b[01;34m55\u001b[0m/  \u001b[01;34m6\u001b[0m/   \u001b[01;34m64\u001b[0m/  \u001b[01;34m69\u001b[0m/\n",
            "\u001b[01;34m10\u001b[0m/  \u001b[01;34m15\u001b[0m/  \u001b[01;34m2\u001b[0m/   \u001b[01;34m24\u001b[0m/  \u001b[01;34m29\u001b[0m/  \u001b[01;34m33\u001b[0m/  \u001b[01;34m38\u001b[0m/  \u001b[01;34m42\u001b[0m/  \u001b[01;34m47\u001b[0m/  \u001b[01;34m51\u001b[0m/  \u001b[01;34m56\u001b[0m/  \u001b[01;34m60\u001b[0m/  \u001b[01;34m65\u001b[0m/  \u001b[01;34m7\u001b[0m/\n",
            "\u001b[01;34m11\u001b[0m/  \u001b[01;34m16\u001b[0m/  \u001b[01;34m20\u001b[0m/  \u001b[01;34m25\u001b[0m/  \u001b[01;34m3\u001b[0m/   \u001b[01;34m34\u001b[0m/  \u001b[01;34m39\u001b[0m/  \u001b[01;34m43\u001b[0m/  \u001b[01;34m48\u001b[0m/  \u001b[01;34m52\u001b[0m/  \u001b[01;34m57\u001b[0m/  \u001b[01;34m61\u001b[0m/  \u001b[01;34m66\u001b[0m/  \u001b[01;34m70\u001b[0m/\n",
            "\u001b[01;34m12\u001b[0m/  \u001b[01;34m17\u001b[0m/  \u001b[01;34m21\u001b[0m/  \u001b[01;34m26\u001b[0m/  \u001b[01;34m30\u001b[0m/  \u001b[01;34m35\u001b[0m/  \u001b[01;34m4\u001b[0m/   \u001b[01;34m44\u001b[0m/  \u001b[01;34m49\u001b[0m/  \u001b[01;34m53\u001b[0m/  \u001b[01;34m58\u001b[0m/  \u001b[01;34m62\u001b[0m/  \u001b[01;34m67\u001b[0m/  \u001b[01;34m8\u001b[0m/\n"
          ]
        }
      ]
    },
    {
      "cell_type": "code",
      "source": [
        "%ls BASE_CHECKPOINT_PATH"
      ],
      "metadata": {
        "colab": {
          "base_uri": "https://localhost:8080/"
        },
        "id": "0ExtHkbGA35N",
        "outputId": "6084837a-6ee6-4e63-b666-2a62bf91bb6e"
      },
      "execution_count": null,
      "outputs": [
        {
          "output_type": "stream",
          "name": "stdout",
          "text": [
            "ls: cannot access 'BASE_CHECKPOINT_PATH': No such file or directory\n"
          ]
        }
      ]
    },
    {
      "cell_type": "code",
      "execution_count": null,
      "metadata": {
        "id": "AvNQ2AeLu_J8"
      },
      "outputs": [],
      "source": [
        "###REPLACE THE NUMBER WITH THE CHECKPOINT ITERATION YOU WANT TO EVALUATE/VISUALIZE\n",
        "actor, critic, actor_optimizer, critic_optimizer, iteration, stop_conditions = load_from_checkpoint(50)\n"
      ]
    },
    {
      "cell_type": "code",
      "execution_count": null,
      "metadata": {
        "id": "YTvP-_Ho-Xn0",
        "colab": {
          "base_uri": "https://localhost:8080/"
        },
        "outputId": "71c55288-bd82-4b31-9b6d-e3e270b6254d"
      },
      "outputs": [
        {
          "output_type": "stream",
          "name": "stdout",
          "text": [
            "Testing policy...\n",
            "Steps to done: 128, Total reward: -10.127748787498888\n"
          ]
        }
      ],
      "source": [
        "file_infix = visualise_policy(actor=actor)"
      ]
    },
    {
      "cell_type": "code",
      "execution_count": null,
      "metadata": {
        "id": "nGPfXxAtvBxY",
        "colab": {
          "base_uri": "https://localhost:8080/",
          "height": 288
        },
        "outputId": "8f39d47b-dd75-4384-c38c-fea04c5da9d4"
      },
      "outputs": [
        {
          "output_type": "execute_result",
          "data": {
            "text/plain": [
              "<IPython.core.display.HTML object>"
            ],
            "text/html": [
              "\n",
              "<video width=400 controls>\n",
              "      <source src=\"data:video/mp4;base64,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\" type=\"video/mp4\">\n",
              "</video>\n"
            ]
          },
          "metadata": {},
          "execution_count": 142
        }
      ],
      "source": [
        "mp4 = open(f\"{WORKSPACE_PATH}/videos/openaigym.video.{file_infix}.video000000.mp4\",'rb').read()\n",
        "data_url = \"data:video/mp4;base64,\" + b64encode(mp4).decode()\n",
        "HTML(\"\"\"\n",
        "<video width=400 controls>\n",
        "      <source src=\"%s\" type=\"video/mp4\">\n",
        "</video>\n",
        "\"\"\" % data_url)"
      ]
    },
    {
      "cell_type": "code",
      "source": [],
      "metadata": {
        "id": "SYBIqavJsfFX"
      },
      "execution_count": null,
      "outputs": []
    }
  ],
  "metadata": {
    "colab": {
      "provenance": []
    },
    "kernelspec": {
      "display_name": "Python 3",
      "language": "python",
      "name": "python3"
    },
    "language_info": {
      "codemirror_mode": {
        "name": "ipython",
        "version": 3
      },
      "file_extension": ".py",
      "mimetype": "text/x-python",
      "name": "python",
      "nbconvert_exporter": "python",
      "pygments_lexer": "ipython3",
      "version": "3.7.0"
    }
  },
  "nbformat": 4,
  "nbformat_minor": 0
}